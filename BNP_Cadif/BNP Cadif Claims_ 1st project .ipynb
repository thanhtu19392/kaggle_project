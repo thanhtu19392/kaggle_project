{
 "cells": [
  {
   "cell_type": "markdown",
   "metadata": {},
   "source": [
    "# Plan of Attack <a name = \"planattack\" ><a/>\n",
    "\n",
    "### [Problem](#problem)\n",
    "\n",
    "### [Data Analysis](#viewdata) \n",
    "1. [Import librairies](#importlibrairies)\n",
    "2. [Import and Analyse Data](#importdata)\n",
    "3. [Data Summary](#1stconclusion)\n",
    "\n",
    "### [Feature Extraction & Engineering](#featureextraction)\n",
    "1. [Data Preprocessing](#datapreprocessing)\n",
    "2. [Creat X data and y data](#createXandy)\n",
    "3. [Unscale data](#unscale)\n",
    "\n",
    "### [Model Selection](#modelselection)\n",
    "1. [Stacking models](#stackmodel)     \n",
    "A. [Case 1: Data Base](#case1)    \n",
    "    A.1 [Tree Models](#randomforesttree)    \n",
    "    A.2 [Logistic Regression](#logisticregression)  \n",
    "    A.3 [SVM](#svm)    \n",
    "B. [Case 2: one-hot coding features](#case2)\n",
    "2. [Concat](#concat)\n",
    "3. [Final model](#finalmodel)"
   ]
  },
  {
   "cell_type": "markdown",
   "metadata": {},
   "source": [
    "----------------------------------------------------------------------------------------------------------------------------\n",
    "----------------------------------------------------------------------------------------------------------------------------\n",
    "\n"
   ]
  },
  {
   "cell_type": "markdown",
   "metadata": {},
   "source": [
    "## Problem: <a name = \"problem\" ><a/>\n",
    "\n",
    "#### The company receives many claims from its customers everyday, and the claims need different levels of check. So that the company wants to build a system which can automatize the process of determining to which level a claim belongs\n",
    "\n",
    " The \"target\" column in the train set is the variable to predict. It is equal to 1 for claims suitable for an accelerated approval.\n",
    "\n",
    " It means category 1 contains claims for which approval could be accelerated, and the second one contains claims for which additional information is required (in other words, they cannot be accelerated)\n",
    "\n",
    "#### The task is to predict a probability (\"PredictedProb\") for each claim in the test set."
   ]
  },
  {
   "cell_type": "markdown",
   "metadata": {},
   "source": [
    "## Data Analysis <a name = \"viewdata\" ><a/>"
   ]
  },
  {
   "cell_type": "markdown",
   "metadata": {},
   "source": [
    "### Import librairies <a name = \"importlibrairies\" ><a/>"
   ]
  },
  {
   "cell_type": "code",
   "execution_count": 32,
   "metadata": {},
   "outputs": [],
   "source": [
    "import pandas as pd\n",
    "import numpy as np\n",
    "import matplotlib.pyplot as plt\n",
    "%matplotlib inline\n",
    "import gc\n",
    "import seaborn as sns \n",
    "from scipy import stats\n",
    "from scipy.stats import norm\n",
    "from sklearn.preprocessing import Imputer\n",
    "from sklearn.preprocessing import StandardScaler\n",
    "from sklearn.ensemble import ExtraTreesClassifier, RandomForestClassifier\n",
    "from sklearn.linear_model import LogisticRegression, LinearRegression\n",
    "from sklearn.cross_validation import StratifiedKFold, cross_val_score, KFold\n",
    "from sklearn.naive_bayes import BernoulliNB\n",
    "import xgboost as xgb\n",
    "from xgboost import XGBClassifier\n",
    "from sklearn.svm import SVC\n",
    "from sklearn.calibration import CalibratedClassifierCV\n",
    "from sklearn.metrics import log_loss, make_scorer\n",
    "from sklearn.base import TransformerMixin, BaseEstimator\n",
    "from sklearn.model_selection import cross_val_predict"
   ]
  },
  {
   "cell_type": "markdown",
   "metadata": {},
   "source": [
    "### Import and Analyse data <a name = \"importdata\" ><a/>"
   ]
  },
  {
   "cell_type": "code",
   "execution_count": 2,
   "metadata": {
    "collapsed": true
   },
   "outputs": [],
   "source": [
    "train = pd.read_csv(\"train.csv\")\n",
    "test = pd.read_csv(\"test.csv\")"
   ]
  },
  {
   "cell_type": "code",
   "execution_count": 3,
   "metadata": {},
   "outputs": [
    {
     "data": {
      "text/html": [
       "<div>\n",
       "<style>\n",
       "    .dataframe thead tr:only-child th {\n",
       "        text-align: right;\n",
       "    }\n",
       "\n",
       "    .dataframe thead th {\n",
       "        text-align: left;\n",
       "    }\n",
       "\n",
       "    .dataframe tbody tr th {\n",
       "        vertical-align: top;\n",
       "    }\n",
       "</style>\n",
       "<table border=\"1\" class=\"dataframe\">\n",
       "  <thead>\n",
       "    <tr style=\"text-align: right;\">\n",
       "      <th></th>\n",
       "      <th>ID</th>\n",
       "      <th>target</th>\n",
       "      <th>v1</th>\n",
       "      <th>v2</th>\n",
       "      <th>v3</th>\n",
       "      <th>v4</th>\n",
       "      <th>v5</th>\n",
       "      <th>v6</th>\n",
       "      <th>v7</th>\n",
       "      <th>v8</th>\n",
       "      <th>...</th>\n",
       "      <th>v122</th>\n",
       "      <th>v123</th>\n",
       "      <th>v124</th>\n",
       "      <th>v125</th>\n",
       "      <th>v126</th>\n",
       "      <th>v127</th>\n",
       "      <th>v128</th>\n",
       "      <th>v129</th>\n",
       "      <th>v130</th>\n",
       "      <th>v131</th>\n",
       "    </tr>\n",
       "  </thead>\n",
       "  <tbody>\n",
       "    <tr>\n",
       "      <th>0</th>\n",
       "      <td>3</td>\n",
       "      <td>1</td>\n",
       "      <td>1.335739</td>\n",
       "      <td>8.727474</td>\n",
       "      <td>C</td>\n",
       "      <td>3.921026</td>\n",
       "      <td>7.915266</td>\n",
       "      <td>2.599278</td>\n",
       "      <td>3.176895</td>\n",
       "      <td>0.012941</td>\n",
       "      <td>...</td>\n",
       "      <td>8.000000</td>\n",
       "      <td>1.989780</td>\n",
       "      <td>0.035754</td>\n",
       "      <td>AU</td>\n",
       "      <td>1.804126</td>\n",
       "      <td>3.113719</td>\n",
       "      <td>2.024285</td>\n",
       "      <td>0</td>\n",
       "      <td>0.636365</td>\n",
       "      <td>2.857144</td>\n",
       "    </tr>\n",
       "    <tr>\n",
       "      <th>1</th>\n",
       "      <td>4</td>\n",
       "      <td>1</td>\n",
       "      <td>NaN</td>\n",
       "      <td>NaN</td>\n",
       "      <td>C</td>\n",
       "      <td>NaN</td>\n",
       "      <td>9.191265</td>\n",
       "      <td>NaN</td>\n",
       "      <td>NaN</td>\n",
       "      <td>2.301630</td>\n",
       "      <td>...</td>\n",
       "      <td>NaN</td>\n",
       "      <td>NaN</td>\n",
       "      <td>0.598896</td>\n",
       "      <td>AF</td>\n",
       "      <td>NaN</td>\n",
       "      <td>NaN</td>\n",
       "      <td>1.957825</td>\n",
       "      <td>0</td>\n",
       "      <td>NaN</td>\n",
       "      <td>NaN</td>\n",
       "    </tr>\n",
       "    <tr>\n",
       "      <th>2</th>\n",
       "      <td>5</td>\n",
       "      <td>1</td>\n",
       "      <td>0.943877</td>\n",
       "      <td>5.310079</td>\n",
       "      <td>C</td>\n",
       "      <td>4.410969</td>\n",
       "      <td>5.326159</td>\n",
       "      <td>3.979592</td>\n",
       "      <td>3.928571</td>\n",
       "      <td>0.019645</td>\n",
       "      <td>...</td>\n",
       "      <td>9.333333</td>\n",
       "      <td>2.477596</td>\n",
       "      <td>0.013452</td>\n",
       "      <td>AE</td>\n",
       "      <td>1.773709</td>\n",
       "      <td>3.922193</td>\n",
       "      <td>1.120468</td>\n",
       "      <td>2</td>\n",
       "      <td>0.883118</td>\n",
       "      <td>1.176472</td>\n",
       "    </tr>\n",
       "    <tr>\n",
       "      <th>3</th>\n",
       "      <td>6</td>\n",
       "      <td>1</td>\n",
       "      <td>0.797415</td>\n",
       "      <td>8.304757</td>\n",
       "      <td>C</td>\n",
       "      <td>4.225930</td>\n",
       "      <td>11.627438</td>\n",
       "      <td>2.097700</td>\n",
       "      <td>1.987549</td>\n",
       "      <td>0.171947</td>\n",
       "      <td>...</td>\n",
       "      <td>7.018256</td>\n",
       "      <td>1.812795</td>\n",
       "      <td>0.002267</td>\n",
       "      <td>CJ</td>\n",
       "      <td>1.415230</td>\n",
       "      <td>2.954381</td>\n",
       "      <td>1.990847</td>\n",
       "      <td>1</td>\n",
       "      <td>1.677108</td>\n",
       "      <td>1.034483</td>\n",
       "    </tr>\n",
       "    <tr>\n",
       "      <th>4</th>\n",
       "      <td>8</td>\n",
       "      <td>1</td>\n",
       "      <td>NaN</td>\n",
       "      <td>NaN</td>\n",
       "      <td>C</td>\n",
       "      <td>NaN</td>\n",
       "      <td>NaN</td>\n",
       "      <td>NaN</td>\n",
       "      <td>NaN</td>\n",
       "      <td>NaN</td>\n",
       "      <td>...</td>\n",
       "      <td>NaN</td>\n",
       "      <td>NaN</td>\n",
       "      <td>NaN</td>\n",
       "      <td>Z</td>\n",
       "      <td>NaN</td>\n",
       "      <td>NaN</td>\n",
       "      <td>NaN</td>\n",
       "      <td>0</td>\n",
       "      <td>NaN</td>\n",
       "      <td>NaN</td>\n",
       "    </tr>\n",
       "  </tbody>\n",
       "</table>\n",
       "<p>5 rows × 133 columns</p>\n",
       "</div>"
      ],
      "text/plain": [
       "   ID  target        v1        v2 v3        v4         v5        v6        v7  \\\n",
       "0   3       1  1.335739  8.727474  C  3.921026   7.915266  2.599278  3.176895   \n",
       "1   4       1       NaN       NaN  C       NaN   9.191265       NaN       NaN   \n",
       "2   5       1  0.943877  5.310079  C  4.410969   5.326159  3.979592  3.928571   \n",
       "3   6       1  0.797415  8.304757  C  4.225930  11.627438  2.097700  1.987549   \n",
       "4   8       1       NaN       NaN  C       NaN        NaN       NaN       NaN   \n",
       "\n",
       "         v8    ...         v122      v123      v124  v125      v126      v127  \\\n",
       "0  0.012941    ...     8.000000  1.989780  0.035754    AU  1.804126  3.113719   \n",
       "1  2.301630    ...          NaN       NaN  0.598896    AF       NaN       NaN   \n",
       "2  0.019645    ...     9.333333  2.477596  0.013452    AE  1.773709  3.922193   \n",
       "3  0.171947    ...     7.018256  1.812795  0.002267    CJ  1.415230  2.954381   \n",
       "4       NaN    ...          NaN       NaN       NaN     Z       NaN       NaN   \n",
       "\n",
       "       v128  v129      v130      v131  \n",
       "0  2.024285     0  0.636365  2.857144  \n",
       "1  1.957825     0       NaN       NaN  \n",
       "2  1.120468     2  0.883118  1.176472  \n",
       "3  1.990847     1  1.677108  1.034483  \n",
       "4       NaN     0       NaN       NaN  \n",
       "\n",
       "[5 rows x 133 columns]"
      ]
     },
     "execution_count": 3,
     "metadata": {},
     "output_type": "execute_result"
    }
   ],
   "source": [
    "train.head()"
   ]
  },
  {
   "cell_type": "code",
   "execution_count": 4,
   "metadata": {},
   "outputs": [
    {
     "data": {
      "text/html": [
       "<div>\n",
       "<style>\n",
       "    .dataframe thead tr:only-child th {\n",
       "        text-align: right;\n",
       "    }\n",
       "\n",
       "    .dataframe thead th {\n",
       "        text-align: left;\n",
       "    }\n",
       "\n",
       "    .dataframe tbody tr th {\n",
       "        vertical-align: top;\n",
       "    }\n",
       "</style>\n",
       "<table border=\"1\" class=\"dataframe\">\n",
       "  <thead>\n",
       "    <tr style=\"text-align: right;\">\n",
       "      <th></th>\n",
       "      <th>ID</th>\n",
       "      <th>v1</th>\n",
       "      <th>v2</th>\n",
       "      <th>v3</th>\n",
       "      <th>v4</th>\n",
       "      <th>v5</th>\n",
       "      <th>v6</th>\n",
       "      <th>v7</th>\n",
       "      <th>v8</th>\n",
       "      <th>v9</th>\n",
       "      <th>...</th>\n",
       "      <th>v122</th>\n",
       "      <th>v123</th>\n",
       "      <th>v124</th>\n",
       "      <th>v125</th>\n",
       "      <th>v126</th>\n",
       "      <th>v127</th>\n",
       "      <th>v128</th>\n",
       "      <th>v129</th>\n",
       "      <th>v130</th>\n",
       "      <th>v131</th>\n",
       "    </tr>\n",
       "  </thead>\n",
       "  <tbody>\n",
       "    <tr>\n",
       "      <th>0</th>\n",
       "      <td>0</td>\n",
       "      <td>1.375465e+00</td>\n",
       "      <td>11.361141</td>\n",
       "      <td>C</td>\n",
       "      <td>4.200778</td>\n",
       "      <td>6.57700</td>\n",
       "      <td>2.081784</td>\n",
       "      <td>1.784386</td>\n",
       "      <td>0.011094</td>\n",
       "      <td>9.523810</td>\n",
       "      <td>...</td>\n",
       "      <td>7.619048</td>\n",
       "      <td>1.815241</td>\n",
       "      <td>1.112270e-07</td>\n",
       "      <td>AF</td>\n",
       "      <td>1.292368</td>\n",
       "      <td>3.903345</td>\n",
       "      <td>1.485925</td>\n",
       "      <td>0</td>\n",
       "      <td>2.333334</td>\n",
       "      <td>1.428572e+00</td>\n",
       "    </tr>\n",
       "    <tr>\n",
       "      <th>1</th>\n",
       "      <td>1</td>\n",
       "      <td>NaN</td>\n",
       "      <td>NaN</td>\n",
       "      <td>C</td>\n",
       "      <td>NaN</td>\n",
       "      <td>NaN</td>\n",
       "      <td>NaN</td>\n",
       "      <td>NaN</td>\n",
       "      <td>NaN</td>\n",
       "      <td>NaN</td>\n",
       "      <td>...</td>\n",
       "      <td>NaN</td>\n",
       "      <td>NaN</td>\n",
       "      <td>NaN</td>\n",
       "      <td>I</td>\n",
       "      <td>NaN</td>\n",
       "      <td>NaN</td>\n",
       "      <td>NaN</td>\n",
       "      <td>0</td>\n",
       "      <td>NaN</td>\n",
       "      <td>NaN</td>\n",
       "    </tr>\n",
       "    <tr>\n",
       "      <th>2</th>\n",
       "      <td>2</td>\n",
       "      <td>-4.903407e-07</td>\n",
       "      <td>8.201529</td>\n",
       "      <td>C</td>\n",
       "      <td>4.544371</td>\n",
       "      <td>6.55010</td>\n",
       "      <td>1.558442</td>\n",
       "      <td>2.467532</td>\n",
       "      <td>0.007164</td>\n",
       "      <td>7.142858</td>\n",
       "      <td>...</td>\n",
       "      <td>5.714286</td>\n",
       "      <td>1.970928</td>\n",
       "      <td>1.412265e-02</td>\n",
       "      <td>AV</td>\n",
       "      <td>1.128724</td>\n",
       "      <td>5.844156</td>\n",
       "      <td>1.475892</td>\n",
       "      <td>0</td>\n",
       "      <td>1.263157</td>\n",
       "      <td>-6.380022e-07</td>\n",
       "    </tr>\n",
       "    <tr>\n",
       "      <th>3</th>\n",
       "      <td>7</td>\n",
       "      <td>2.661870e+00</td>\n",
       "      <td>3.041241</td>\n",
       "      <td>C</td>\n",
       "      <td>1.657216</td>\n",
       "      <td>9.77308</td>\n",
       "      <td>2.078337</td>\n",
       "      <td>1.430855</td>\n",
       "      <td>1.252157</td>\n",
       "      <td>7.959596</td>\n",
       "      <td>...</td>\n",
       "      <td>4.404040</td>\n",
       "      <td>8.163614</td>\n",
       "      <td>1.100329e+00</td>\n",
       "      <td>B</td>\n",
       "      <td>1.988688</td>\n",
       "      <td>1.558753</td>\n",
       "      <td>2.448814</td>\n",
       "      <td>0</td>\n",
       "      <td>5.385474</td>\n",
       "      <td>1.493777e+00</td>\n",
       "    </tr>\n",
       "    <tr>\n",
       "      <th>4</th>\n",
       "      <td>10</td>\n",
       "      <td>1.252822e+00</td>\n",
       "      <td>11.283352</td>\n",
       "      <td>C</td>\n",
       "      <td>4.638388</td>\n",
       "      <td>8.52051</td>\n",
       "      <td>2.302484</td>\n",
       "      <td>3.510159</td>\n",
       "      <td>0.074263</td>\n",
       "      <td>7.612904</td>\n",
       "      <td>...</td>\n",
       "      <td>6.580644</td>\n",
       "      <td>1.325654</td>\n",
       "      <td>2.584588e-01</td>\n",
       "      <td>A</td>\n",
       "      <td>1.863796</td>\n",
       "      <td>2.666478</td>\n",
       "      <td>2.374275</td>\n",
       "      <td>0</td>\n",
       "      <td>0.681672</td>\n",
       "      <td>2.264151e+00</td>\n",
       "    </tr>\n",
       "  </tbody>\n",
       "</table>\n",
       "<p>5 rows × 132 columns</p>\n",
       "</div>"
      ],
      "text/plain": [
       "   ID            v1         v2 v3        v4       v5        v6        v7  \\\n",
       "0   0  1.375465e+00  11.361141  C  4.200778  6.57700  2.081784  1.784386   \n",
       "1   1           NaN        NaN  C       NaN      NaN       NaN       NaN   \n",
       "2   2 -4.903407e-07   8.201529  C  4.544371  6.55010  1.558442  2.467532   \n",
       "3   7  2.661870e+00   3.041241  C  1.657216  9.77308  2.078337  1.430855   \n",
       "4  10  1.252822e+00  11.283352  C  4.638388  8.52051  2.302484  3.510159   \n",
       "\n",
       "         v8        v9      ...           v122      v123          v124  v125  \\\n",
       "0  0.011094  9.523810      ...       7.619048  1.815241  1.112270e-07    AF   \n",
       "1       NaN       NaN      ...            NaN       NaN           NaN     I   \n",
       "2  0.007164  7.142858      ...       5.714286  1.970928  1.412265e-02    AV   \n",
       "3  1.252157  7.959596      ...       4.404040  8.163614  1.100329e+00     B   \n",
       "4  0.074263  7.612904      ...       6.580644  1.325654  2.584588e-01     A   \n",
       "\n",
       "       v126      v127      v128  v129      v130          v131  \n",
       "0  1.292368  3.903345  1.485925     0  2.333334  1.428572e+00  \n",
       "1       NaN       NaN       NaN     0       NaN           NaN  \n",
       "2  1.128724  5.844156  1.475892     0  1.263157 -6.380022e-07  \n",
       "3  1.988688  1.558753  2.448814     0  5.385474  1.493777e+00  \n",
       "4  1.863796  2.666478  2.374275     0  0.681672  2.264151e+00  \n",
       "\n",
       "[5 rows x 132 columns]"
      ]
     },
     "execution_count": 4,
     "metadata": {},
     "output_type": "execute_result"
    }
   ],
   "source": [
    "test.head()"
   ]
  },
  {
   "cell_type": "code",
   "execution_count": 5,
   "metadata": {},
   "outputs": [
    {
     "name": "stdout",
     "output_type": "stream",
     "text": [
      "Shape for training data: (114321, 133)\n",
      "Shape for test data: (114393, 132)\n"
     ]
    }
   ],
   "source": [
    "print('Shape for training data:' , train.shape)\n",
    "print('Shape for test data:', test.shape)"
   ]
  },
  {
   "cell_type": "code",
   "execution_count": 6,
   "metadata": {},
   "outputs": [
    {
     "name": "stdout",
     "output_type": "stream",
     "text": [
      "<class 'pandas.core.frame.DataFrame'>\n",
      "RangeIndex: 114321 entries, 0 to 114320\n",
      "Columns: 133 entries, ID to v131\n",
      "dtypes: float64(108), int64(6), object(19)\n",
      "memory usage: 116.0+ MB\n"
     ]
    }
   ],
   "source": [
    "train.info()"
   ]
  },
  {
   "cell_type": "code",
   "execution_count": 7,
   "metadata": {},
   "outputs": [
    {
     "name": "stdout",
     "output_type": "stream",
     "text": [
      "<class 'pandas.core.frame.DataFrame'>\n",
      "RangeIndex: 114393 entries, 0 to 114392\n",
      "Columns: 132 entries, ID to v131\n",
      "dtypes: float64(108), int64(5), object(19)\n",
      "memory usage: 115.2+ MB\n"
     ]
    }
   ],
   "source": [
    "test.info()"
   ]
  },
  {
   "cell_type": "markdown",
   "metadata": {},
   "source": [
    "#### Missing Data"
   ]
  },
  {
   "cell_type": "code",
   "execution_count": 6,
   "metadata": {},
   "outputs": [
    {
     "name": "stdout",
     "output_type": "stream",
     "text": [
      "Missing data in training data: 119\n"
     ]
    }
   ],
   "source": [
    "#missing training data \n",
    "total = train.isnull().sum().sort_values(ascending=False)\n",
    "percent = (train.isnull().sum()/train.isnull().count()).sort_values(ascending=False)\n",
    "missing_data = pd.concat([total, percent], axis=1, keys=['Total', 'Percent'])\n",
    "print(\"Missing data in training data:\", len(missing_data[missing_data['Total'] > 0 ]))\n",
    "#missing_data[missing_data['Total'] > 40000]"
   ]
  },
  {
   "cell_type": "code",
   "execution_count": 7,
   "metadata": {},
   "outputs": [
    {
     "name": "stdout",
     "output_type": "stream",
     "text": [
      "Missing data in test data: 119\n"
     ]
    }
   ],
   "source": [
    "#missing test data \n",
    "total = test.isnull().sum().sort_values(ascending=False)\n",
    "percent = (test.isnull().sum()/test.isnull().count()).sort_values(ascending=False)\n",
    "missing_test = pd.concat([total, percent], axis=1, keys=['Total', 'Percent'])\n",
    "print(\"Missing data in test data:\", len(missing_test[missing_test['Total'] > 0 ]))\n",
    "#missing_test[missing_test['Total'] > 40000]\n"
   ]
  },
  {
   "cell_type": "markdown",
   "metadata": {},
   "source": [
    "#### Correlation"
   ]
  },
  {
   "cell_type": "code",
   "execution_count": 12,
   "metadata": {},
   "outputs": [
    {
     "name": "stderr",
     "output_type": "stream",
     "text": [
      "/home/tu/miniconda3/envs/env36/lib/python3.6/site-packages/pandas/core/dtypes/common.py:1817: DeprecationWarning: Numeric-style type codes are deprecated and will result in an error in the future.\n",
      "  return _get_dtype_from_object(np.dtype(dtype))\n",
      "/home/tu/miniconda3/envs/env36/lib/python3.6/site-packages/seaborn/matrix.py:143: DeprecationWarning: elementwise == comparison failed; this will raise an error in the future.\n",
      "  if xticklabels == []:\n",
      "/home/tu/miniconda3/envs/env36/lib/python3.6/site-packages/seaborn/matrix.py:151: DeprecationWarning: elementwise == comparison failed; this will raise an error in the future.\n",
      "  if yticklabels == []:\n",
      "/home/tu/miniconda3/envs/env36/lib/python3.6/site-packages/matplotlib/font_manager.py:1297: UserWarning: findfont: Font family ['sans-serif'] not found. Falling back to DejaVu Sans\n",
      "  (prop.get_family(), self.defaultFamily[fontext]))\n"
     ]
    },
    {
     "data": {
      "text/plain": [
       "<matplotlib.axes._subplots.AxesSubplot at 0x7f00f78fbc50>"
      ]
     },
     "execution_count": 12,
     "metadata": {},
     "output_type": "execute_result"
    },
    {
     "data": {
      "image/png": "[encoded data removed]",
      "text/plain": [
       "<matplotlib.figure.Figure at 0x7f0130048208>"
      ]
     },
     "metadata": {},
     "output_type": "display_data"
    }
   ],
   "source": [
    "corrMatrix = train.select_dtypes(include = ['Float64']).iloc[:,2:].corr()\n",
    "sns.set(font_scale = 1.1)\n",
    "plt.figure(figsize = (20,20))\n",
    "sns.heatmap(corrMatrix, vmax =.8, linewidths = 0.01, cmap ='viridis', linecolor = 'white')"
   ]
  },
  {
   "cell_type": "markdown",
   "metadata": {},
   "source": [
    "#### Checking Target and its distribution"
   ]
  },
  {
   "cell_type": "code",
   "execution_count": 10,
   "metadata": {},
   "outputs": [
    {
     "name": "stdout",
     "output_type": "stream",
     "text": [
      "0    27300\n",
      "1    87021\n",
      "Name: target, dtype: int64\n"
     ]
    },
    {
     "data": {
      "text/plain": [
       "<matplotlib.text.Text at 0x7fc47d995908>"
      ]
     },
     "execution_count": 10,
     "metadata": {},
     "output_type": "execute_result"
    },
    {
     "name": "stderr",
     "output_type": "stream",
     "text": [
      "/home/tu/miniconda3/envs/env36/lib/python3.6/site-packages/matplotlib/font_manager.py:1297: UserWarning: findfont: Font family ['sans-serif'] not found. Falling back to DejaVu Sans\n",
      "  (prop.get_family(), self.defaultFamily[fontext]))\n"
     ]
    },
    {
     "data": {
      "image/png": "[encoded data removed]",
      "text/plain": [
       "<matplotlib.figure.Figure at 0x7fc47f1910f0>"
      ]
     },
     "metadata": {},
     "output_type": "display_data"
    }
   ],
   "source": [
    "#Checking target\n",
    "count_target = pd.value_counts(train['target'], sort = True).sort_index()\n",
    "print(count_target)\n",
    "count_target.plot(kind= 'bar')\n",
    "plt.title('Claim target histogram')\n",
    "plt.xlabel('Target')\n",
    "plt.ylabel('Frequency')"
   ]
  },
  {
   "cell_type": "markdown",
   "metadata": {},
   "source": [
    "### Data Summary <a name = \"1stconclusion\" ><a/>\n",
    "\n",
    "##### Training data: \n",
    "- 114 321 observations (rows) x 133 features (columns, including target)\n",
    "- Column \"ID\": the ID of each row, not being used as predictor\n",
    "- Column \"target\": the target of each row, not being used as predictor\n",
    "- All other predictors are unlabelled\n",
    "- types: float64(108), int64(6), object(19)\n",
    "- Numbers of Columns with missing value: 119 whose 102 columns have more than 48 619 missing values with percentage 42,52%\n",
    "- There are many Colums which have the same percentage of missing values ==> **correlated**\n",
    "- Target: There are 27300 values 0 and 87021 values 1\n",
    "\n",
    "\n",
    "##### Test data: \n",
    "- 114 393 observations (rows) x 132 features (columns)\n",
    "- Column \"ID\": the ID of each row, not being used as predictor\n",
    "- All other predictors are unlabelled\n",
    "- types: float64(108), int64(5), object(19)\n",
    "- Numbers of Columns with missing value: 119 whose 102 columns have more than 48 619 missing values with percentage 42,52%\n"
   ]
  },
  {
   "cell_type": "markdown",
   "metadata": {},
   "source": [
    "#### [Back to Plan](#planattack)"
   ]
  },
  {
   "cell_type": "markdown",
   "metadata": {},
   "source": [
    "## Feature Extraction & Engineering <a name = \"featureextraction\" ><a/>"
   ]
  },
  {
   "cell_type": "markdown",
   "metadata": {},
   "source": [
    "### Data Preprocessing <a name = \"datapreprocessing\" ><a/>"
   ]
  },
  {
   "cell_type": "code",
   "execution_count": 12,
   "metadata": {
    "collapsed": true
   },
   "outputs": [],
   "source": [
    "train = pd.read_csv(\"train.csv\")\n",
    "test = pd.read_csv(\"test.csv\")"
   ]
  },
  {
   "cell_type": "code",
   "execution_count": 13,
   "metadata": {
    "collapsed": true
   },
   "outputs": [],
   "source": [
    "def factorize(train, test):\n",
    "    for (train_name, train_series), (test_name, test_series) in zip(train.iteritems(), test.iteritems()):\n",
    "        if train_series.dtype == 'O': #check if object\n",
    "            train[train_name], tmp_indexer = pd.factorize(train[train_name])\n",
    "            # pd.factorize will return, in second position, the list of unique values (or categorical labels) in the provided \n",
    "            # column, in first position, the indices that would let you recreate the original column from the unique values\n",
    "            \n",
    "            # train[train_name] will be replaced by its index-based representation, \n",
    "            # tmp_indexer will contains the unique values in the original train[train_name].\n",
    "\n",
    "            test[train_name] = tmp_indexer.get_indexer(test[train_name])\n",
    "            #  get_indexer will return the indices where the values in test[test_name] are to be found in tmp_indexer\n",
    "            #  the current test column is replaced by a list of indices in the exact same way the corresponding train column was in the line above.\n",
    "              \n",
    "        else:   # else if int or float\n",
    "            tmp_len = len(train[train_series.isnull()])\n",
    "            if tmp_len > 0:\n",
    "                train.loc[train_series.isnull(), train_name] = -2\n",
    "            tmp_len = len(test[test_series.isnull()])\n",
    "            if tmp_len > 0:\n",
    "                test.loc[test_series.isnull(), test_name] = -2\n",
    "    return train, test\n",
    "\n",
    "def preprocess_data(train, test):\n",
    "    train = train.drop((missing_data[missing_data['Total'] > 40000]).index,axis =1)\n",
    "    test = test.drop((missing_data[missing_data['Total'] >40000]).index, axis = 1)\n",
    "    \n",
    "    \n",
    "    train, test = factorize(train, test)\n",
    "\n",
    "    return (train, test)\n",
    "\n",
    "        "
   ]
  },
  {
   "cell_type": "code",
   "execution_count": 14,
   "metadata": {},
   "outputs": [],
   "source": [
    "train, test = preprocess_data(train, test)"
   ]
  },
  {
   "cell_type": "code",
   "execution_count": 15,
   "metadata": {},
   "outputs": [
    {
     "name": "stdout",
     "output_type": "stream",
     "text": [
      "Shape of training data: (114321, 31)\n",
      "Shape of test data: (114393, 30)\n"
     ]
    }
   ],
   "source": [
    "print('Shape of training data:', train.shape)\n",
    "print('Shape of test data:', test.shape)"
   ]
  },
  {
   "cell_type": "code",
   "execution_count": 16,
   "metadata": {},
   "outputs": [
    {
     "data": {
      "text/html": [
       "<div>\n",
       "<style>\n",
       "    .dataframe thead tr:only-child th {\n",
       "        text-align: right;\n",
       "    }\n",
       "\n",
       "    .dataframe thead th {\n",
       "        text-align: left;\n",
       "    }\n",
       "\n",
       "    .dataframe tbody tr th {\n",
       "        vertical-align: top;\n",
       "    }\n",
       "</style>\n",
       "<table border=\"1\" class=\"dataframe\">\n",
       "  <thead>\n",
       "    <tr style=\"text-align: right;\">\n",
       "      <th></th>\n",
       "      <th>ID</th>\n",
       "      <th>target</th>\n",
       "      <th>v3</th>\n",
       "      <th>v10</th>\n",
       "      <th>v12</th>\n",
       "      <th>v14</th>\n",
       "      <th>v21</th>\n",
       "      <th>v22</th>\n",
       "      <th>v24</th>\n",
       "      <th>v31</th>\n",
       "      <th>...</th>\n",
       "      <th>v74</th>\n",
       "      <th>v75</th>\n",
       "      <th>v79</th>\n",
       "      <th>v91</th>\n",
       "      <th>v107</th>\n",
       "      <th>v110</th>\n",
       "      <th>v112</th>\n",
       "      <th>v114</th>\n",
       "      <th>v125</th>\n",
       "      <th>v129</th>\n",
       "    </tr>\n",
       "  </thead>\n",
       "  <tbody>\n",
       "    <tr>\n",
       "      <th>0</th>\n",
       "      <td>3</td>\n",
       "      <td>1</td>\n",
       "      <td>0</td>\n",
       "      <td>0.503281</td>\n",
       "      <td>6.085711</td>\n",
       "      <td>11.636387</td>\n",
       "      <td>7.730923</td>\n",
       "      <td>0</td>\n",
       "      <td>0</td>\n",
       "      <td>0</td>\n",
       "      <td>...</td>\n",
       "      <td>0</td>\n",
       "      <td>0</td>\n",
       "      <td>0</td>\n",
       "      <td>0</td>\n",
       "      <td>0</td>\n",
       "      <td>0</td>\n",
       "      <td>0</td>\n",
       "      <td>15.634907</td>\n",
       "      <td>0</td>\n",
       "      <td>0</td>\n",
       "    </tr>\n",
       "    <tr>\n",
       "      <th>1</th>\n",
       "      <td>4</td>\n",
       "      <td>1</td>\n",
       "      <td>0</td>\n",
       "      <td>1.312910</td>\n",
       "      <td>6.507647</td>\n",
       "      <td>11.636386</td>\n",
       "      <td>6.763110</td>\n",
       "      <td>1</td>\n",
       "      <td>0</td>\n",
       "      <td>0</td>\n",
       "      <td>...</td>\n",
       "      <td>0</td>\n",
       "      <td>0</td>\n",
       "      <td>1</td>\n",
       "      <td>1</td>\n",
       "      <td>1</td>\n",
       "      <td>1</td>\n",
       "      <td>1</td>\n",
       "      <td>10.308044</td>\n",
       "      <td>1</td>\n",
       "      <td>0</td>\n",
       "    </tr>\n",
       "    <tr>\n",
       "      <th>2</th>\n",
       "      <td>5</td>\n",
       "      <td>1</td>\n",
       "      <td>0</td>\n",
       "      <td>0.765864</td>\n",
       "      <td>6.384670</td>\n",
       "      <td>9.603542</td>\n",
       "      <td>5.245035</td>\n",
       "      <td>2</td>\n",
       "      <td>1</td>\n",
       "      <td>0</td>\n",
       "      <td>...</td>\n",
       "      <td>0</td>\n",
       "      <td>1</td>\n",
       "      <td>0</td>\n",
       "      <td>2</td>\n",
       "      <td>2</td>\n",
       "      <td>0</td>\n",
       "      <td>2</td>\n",
       "      <td>11.205561</td>\n",
       "      <td>2</td>\n",
       "      <td>2</td>\n",
       "    </tr>\n",
       "    <tr>\n",
       "      <th>3</th>\n",
       "      <td>6</td>\n",
       "      <td>1</td>\n",
       "      <td>0</td>\n",
       "      <td>6.542669</td>\n",
       "      <td>9.646653</td>\n",
       "      <td>14.094723</td>\n",
       "      <td>7.517125</td>\n",
       "      <td>3</td>\n",
       "      <td>2</td>\n",
       "      <td>1</td>\n",
       "      <td>...</td>\n",
       "      <td>0</td>\n",
       "      <td>0</td>\n",
       "      <td>2</td>\n",
       "      <td>1</td>\n",
       "      <td>1</td>\n",
       "      <td>0</td>\n",
       "      <td>3</td>\n",
       "      <td>13.777666</td>\n",
       "      <td>3</td>\n",
       "      <td>1</td>\n",
       "    </tr>\n",
       "    <tr>\n",
       "      <th>4</th>\n",
       "      <td>8</td>\n",
       "      <td>1</td>\n",
       "      <td>0</td>\n",
       "      <td>1.050328</td>\n",
       "      <td>6.320087</td>\n",
       "      <td>10.991098</td>\n",
       "      <td>6.414567</td>\n",
       "      <td>4</td>\n",
       "      <td>1</td>\n",
       "      <td>0</td>\n",
       "      <td>...</td>\n",
       "      <td>0</td>\n",
       "      <td>0</td>\n",
       "      <td>3</td>\n",
       "      <td>2</td>\n",
       "      <td>2</td>\n",
       "      <td>1</td>\n",
       "      <td>4</td>\n",
       "      <td>14.097099</td>\n",
       "      <td>4</td>\n",
       "      <td>0</td>\n",
       "    </tr>\n",
       "  </tbody>\n",
       "</table>\n",
       "<p>5 rows × 31 columns</p>\n",
       "</div>"
      ],
      "text/plain": [
       "   ID  target  v3       v10       v12        v14       v21  v22  v24  v31  \\\n",
       "0   3       1   0  0.503281  6.085711  11.636387  7.730923    0    0    0   \n",
       "1   4       1   0  1.312910  6.507647  11.636386  6.763110    1    0    0   \n",
       "2   5       1   0  0.765864  6.384670   9.603542  5.245035    2    1    0   \n",
       "3   6       1   0  6.542669  9.646653  14.094723  7.517125    3    2    1   \n",
       "4   8       1   0  1.050328  6.320087  10.991098  6.414567    4    1    0   \n",
       "\n",
       "   ...   v74  v75  v79  v91  v107  v110  v112       v114  v125  v129  \n",
       "0  ...     0    0    0    0     0     0     0  15.634907     0     0  \n",
       "1  ...     0    0    1    1     1     1     1  10.308044     1     0  \n",
       "2  ...     0    1    0    2     2     0     2  11.205561     2     2  \n",
       "3  ...     0    0    2    1     1     0     3  13.777666     3     1  \n",
       "4  ...     0    0    3    2     2     1     4  14.097099     4     0  \n",
       "\n",
       "[5 rows x 31 columns]"
      ]
     },
     "execution_count": 16,
     "metadata": {},
     "output_type": "execute_result"
    }
   ],
   "source": [
    "train.head()"
   ]
  },
  {
   "cell_type": "code",
   "execution_count": 17,
   "metadata": {},
   "outputs": [
    {
     "data": {
      "text/html": [
       "<div>\n",
       "<style>\n",
       "    .dataframe thead tr:only-child th {\n",
       "        text-align: right;\n",
       "    }\n",
       "\n",
       "    .dataframe thead th {\n",
       "        text-align: left;\n",
       "    }\n",
       "\n",
       "    .dataframe tbody tr th {\n",
       "        vertical-align: top;\n",
       "    }\n",
       "</style>\n",
       "<table border=\"1\" class=\"dataframe\">\n",
       "  <thead>\n",
       "    <tr style=\"text-align: right;\">\n",
       "      <th></th>\n",
       "      <th>ID</th>\n",
       "      <th>v3</th>\n",
       "      <th>v10</th>\n",
       "      <th>v12</th>\n",
       "      <th>v14</th>\n",
       "      <th>v21</th>\n",
       "      <th>v22</th>\n",
       "      <th>v24</th>\n",
       "      <th>v31</th>\n",
       "      <th>v34</th>\n",
       "      <th>...</th>\n",
       "      <th>v74</th>\n",
       "      <th>v75</th>\n",
       "      <th>v79</th>\n",
       "      <th>v91</th>\n",
       "      <th>v107</th>\n",
       "      <th>v110</th>\n",
       "      <th>v112</th>\n",
       "      <th>v114</th>\n",
       "      <th>v125</th>\n",
       "      <th>v129</th>\n",
       "    </tr>\n",
       "  </thead>\n",
       "  <tbody>\n",
       "    <tr>\n",
       "      <th>0</th>\n",
       "      <td>0</td>\n",
       "      <td>0</td>\n",
       "      <td>1.312911</td>\n",
       "      <td>6.961173</td>\n",
       "      <td>12.230137</td>\n",
       "      <td>7.437806</td>\n",
       "      <td>11111</td>\n",
       "      <td>1</td>\n",
       "      <td>0</td>\n",
       "      <td>5.228503</td>\n",
       "      <td>...</td>\n",
       "      <td>0</td>\n",
       "      <td>0</td>\n",
       "      <td>13</td>\n",
       "      <td>1</td>\n",
       "      <td>1</td>\n",
       "      <td>1</td>\n",
       "      <td>1</td>\n",
       "      <td>12.246698</td>\n",
       "      <td>1</td>\n",
       "      <td>0</td>\n",
       "    </tr>\n",
       "    <tr>\n",
       "      <th>1</th>\n",
       "      <td>1</td>\n",
       "      <td>0</td>\n",
       "      <td>1.291029</td>\n",
       "      <td>6.618289</td>\n",
       "      <td>10.760796</td>\n",
       "      <td>5.895192</td>\n",
       "      <td>310</td>\n",
       "      <td>2</td>\n",
       "      <td>0</td>\n",
       "      <td>8.387431</td>\n",
       "      <td>...</td>\n",
       "      <td>0</td>\n",
       "      <td>0</td>\n",
       "      <td>0</td>\n",
       "      <td>3</td>\n",
       "      <td>3</td>\n",
       "      <td>0</td>\n",
       "      <td>10</td>\n",
       "      <td>16.284938</td>\n",
       "      <td>75</td>\n",
       "      <td>0</td>\n",
       "    </tr>\n",
       "    <tr>\n",
       "      <th>2</th>\n",
       "      <td>2</td>\n",
       "      <td>0</td>\n",
       "      <td>1.575492</td>\n",
       "      <td>6.894249</td>\n",
       "      <td>13.306189</td>\n",
       "      <td>8.253452</td>\n",
       "      <td>-1</td>\n",
       "      <td>4</td>\n",
       "      <td>0</td>\n",
       "      <td>7.958990</td>\n",
       "      <td>...</td>\n",
       "      <td>0</td>\n",
       "      <td>0</td>\n",
       "      <td>3</td>\n",
       "      <td>3</td>\n",
       "      <td>3</td>\n",
       "      <td>1</td>\n",
       "      <td>20</td>\n",
       "      <td>15.622710</td>\n",
       "      <td>48</td>\n",
       "      <td>0</td>\n",
       "    </tr>\n",
       "    <tr>\n",
       "      <th>3</th>\n",
       "      <td>7</td>\n",
       "      <td>0</td>\n",
       "      <td>1.575493</td>\n",
       "      <td>6.856236</td>\n",
       "      <td>10.397026</td>\n",
       "      <td>5.539484</td>\n",
       "      <td>426</td>\n",
       "      <td>1</td>\n",
       "      <td>0</td>\n",
       "      <td>6.223849</td>\n",
       "      <td>...</td>\n",
       "      <td>0</td>\n",
       "      <td>0</td>\n",
       "      <td>3</td>\n",
       "      <td>1</td>\n",
       "      <td>1</td>\n",
       "      <td>1</td>\n",
       "      <td>7</td>\n",
       "      <td>13.701587</td>\n",
       "      <td>30</td>\n",
       "      <td>0</td>\n",
       "    </tr>\n",
       "    <tr>\n",
       "      <th>4</th>\n",
       "      <td>10</td>\n",
       "      <td>0</td>\n",
       "      <td>1.050328</td>\n",
       "      <td>6.273627</td>\n",
       "      <td>11.354501</td>\n",
       "      <td>6.741530</td>\n",
       "      <td>3796</td>\n",
       "      <td>1</td>\n",
       "      <td>0</td>\n",
       "      <td>5.476858</td>\n",
       "      <td>...</td>\n",
       "      <td>0</td>\n",
       "      <td>0</td>\n",
       "      <td>3</td>\n",
       "      <td>1</td>\n",
       "      <td>1</td>\n",
       "      <td>1</td>\n",
       "      <td>15</td>\n",
       "      <td>13.395401</td>\n",
       "      <td>38</td>\n",
       "      <td>0</td>\n",
       "    </tr>\n",
       "  </tbody>\n",
       "</table>\n",
       "<p>5 rows × 30 columns</p>\n",
       "</div>"
      ],
      "text/plain": [
       "   ID  v3       v10       v12        v14       v21    v22  v24  v31       v34  \\\n",
       "0   0   0  1.312911  6.961173  12.230137  7.437806  11111    1    0  5.228503   \n",
       "1   1   0  1.291029  6.618289  10.760796  5.895192    310    2    0  8.387431   \n",
       "2   2   0  1.575492  6.894249  13.306189  8.253452     -1    4    0  7.958990   \n",
       "3   7   0  1.575493  6.856236  10.397026  5.539484    426    1    0  6.223849   \n",
       "4  10   0  1.050328  6.273627  11.354501  6.741530   3796    1    0  5.476858   \n",
       "\n",
       "   ...   v74  v75  v79  v91  v107  v110  v112       v114  v125  v129  \n",
       "0  ...     0    0   13    1     1     1     1  12.246698     1     0  \n",
       "1  ...     0    0    0    3     3     0    10  16.284938    75     0  \n",
       "2  ...     0    0    3    3     3     1    20  15.622710    48     0  \n",
       "3  ...     0    0    3    1     1     1     7  13.701587    30     0  \n",
       "4  ...     0    0    3    1     1     1    15  13.395401    38     0  \n",
       "\n",
       "[5 rows x 30 columns]"
      ]
     },
     "execution_count": 17,
     "metadata": {},
     "output_type": "execute_result"
    }
   ],
   "source": [
    "test.head()"
   ]
  },
  {
   "cell_type": "code",
   "execution_count": 18,
   "metadata": {
    "collapsed": true
   },
   "outputs": [],
   "source": [
    "test = test.fillna(test.mean())"
   ]
  },
  {
   "cell_type": "markdown",
   "metadata": {},
   "source": [
    "### Create X data and y data <a name = \"createXandy\" ><a/>"
   ]
  },
  {
   "cell_type": "code",
   "execution_count": 19,
   "metadata": {},
   "outputs": [
    {
     "name": "stderr",
     "output_type": "stream",
     "text": [
      "/home/tu/miniconda3/envs/env36/lib/python3.6/site-packages/ipykernel_launcher.py:1: DeprecationWarning: \n",
      ".ix is deprecated. Please use\n",
      ".loc for label based indexing or\n",
      ".iloc for positional indexing\n",
      "\n",
      "See the documentation here:\n",
      "http://pandas.pydata.org/pandas-docs/stable/indexing.html#deprecate_ix\n",
      "  \"\"\"Entry point for launching an IPython kernel.\n",
      "/home/tu/miniconda3/envs/env36/lib/python3.6/site-packages/ipykernel_launcher.py:4: DeprecationWarning: \n",
      ".ix is deprecated. Please use\n",
      ".loc for label based indexing or\n",
      ".iloc for positional indexing\n",
      "\n",
      "See the documentation here:\n",
      "http://pandas.pydata.org/pandas-docs/stable/indexing.html#deprecate_ix\n",
      "  after removing the cwd from sys.path.\n"
     ]
    }
   ],
   "source": [
    "X_train = train.ix[:, train.columns != 'target']\n",
    "y_train = train.ix[:, train.columns == 'target']\n",
    "\n",
    "X_test = test.ix[:, test.columns != 'target']\n",
    "\n",
    "test_id = X_test['ID']\n",
    "\n",
    "X_train = X_train.drop('ID', axis =1)\n",
    "X_test = X_test.drop('ID', axis =1 )"
   ]
  },
  {
   "cell_type": "code",
   "execution_count": 20,
   "metadata": {},
   "outputs": [
    {
     "name": "stdout",
     "output_type": "stream",
     "text": [
      "Numerical features of training data :29\n",
      "Categorical features of training data :0\n"
     ]
    }
   ],
   "source": [
    "#calculate number of categorical features and numerical features\n",
    "categorical_features_train = X_train.select_dtypes(include=[\"object\"]).columns\n",
    "numerical_features_train = X_train.select_dtypes(exclude=[\"object\"]).columns\n",
    "train_cat = X_train[categorical_features_train]\n",
    "train_num = X_train[numerical_features_train]\n",
    "print(\"Numerical features of training data :\" + str(len(numerical_features_train)))\n",
    "print(\"Categorical features of training data :\" + str(len(categorical_features_train)))"
   ]
  },
  {
   "cell_type": "code",
   "execution_count": 21,
   "metadata": {},
   "outputs": [
    {
     "name": "stdout",
     "output_type": "stream",
     "text": [
      "Numerical features of test set:29\n",
      "Categorical features of test set:0\n"
     ]
    }
   ],
   "source": [
    "#calculate number of categorical features and numerical features\n",
    "categorical_features_test = X_test.select_dtypes(include=[\"object\"]).columns\n",
    "numerical_features_test = X_test.select_dtypes(exclude=[\"object\"]).columns\n",
    "test_cat = X_test[categorical_features_test]\n",
    "test_num = X_test[numerical_features_test]\n",
    "print(\"Numerical features of test set:\" + str(len(numerical_features_test)))\n",
    "print(\"Categorical features of test set:\" + str(len(categorical_features_test)))"
   ]
  },
  {
   "cell_type": "markdown",
   "metadata": {},
   "source": [
    "#### Unscale X data training <a name = \"unscale\" ><a/>"
   ]
  },
  {
   "cell_type": "code",
   "execution_count": 22,
   "metadata": {
    "collapsed": true
   },
   "outputs": [],
   "source": [
    "X_test_unscale = np.array(X_test, dtype=np.float64)"
   ]
  },
  {
   "cell_type": "code",
   "execution_count": 23,
   "metadata": {
    "collapsed": true
   },
   "outputs": [],
   "source": [
    "ss = StandardScaler()\n",
    "X_train_unscale = ss.fit_transform(X_train)\n",
    "X_test_unscale = ss.transform(X_test_unscale)"
   ]
  },
  {
   "cell_type": "markdown",
   "metadata": {},
   "source": [
    "#### [Back to Plan](#planattack)"
   ]
  },
  {
   "cell_type": "markdown",
   "metadata": {
    "collapsed": true
   },
   "source": [
    "## Model Selection <a name = \"modelselection\" ><a/>"
   ]
  },
  {
   "cell_type": "code",
   "execution_count": 24,
   "metadata": {
    "collapsed": true
   },
   "outputs": [],
   "source": [
    "y_train = train['target'].values\n",
    "\n",
    "# Utilise Kfold = 10 for cross-validation. skf is a list 10 elements whose each is a composition of 2 arrays train and test \n",
    "# for cross-validation\n",
    "skf = list(StratifiedKFold(y_train, n_folds=10, shuffle=True, random_state=1))\n",
    "\n",
    "# Stratification is the process of rearranging the data as to ensure each fold is a good representative of the whole. \n",
    "# For example in a binary classification problem where each class comprises 50% of the data, \n",
    "# it is best to arrange the data such that in every fold, each class comprises around half the instances.\n"
   ]
  },
  {
   "cell_type": "markdown",
   "metadata": {},
   "source": [
    "### Stacking model <a name = \"stackmodel\" ><a/>"
   ]
  },
  {
   "cell_type": "code",
   "execution_count": 25,
   "metadata": {
    "collapsed": true
   },
   "outputs": [],
   "source": [
    "def stacking(X_train, X_test, y_train, skf, clfs):\n",
    "    meta_train = np.zeros((X_train.shape[0], len(clfs)))\n",
    "    meta_test  = np.zeros((X_test.shape[0],  len(clfs)))\n",
    "    \n",
    "    for j, clf in enumerate(clfs):\n",
    "        print('Clf', j+1, clfs[j])\n",
    "        meta_test_j = np.zeros((X_test.shape[0], len(skf)))\n",
    "        for i, (train, test) in enumerate(skf):\n",
    "            print('Fold', i+1)\n",
    "            #cross-validation 10 folds\n",
    "            X_tr = X_train[train]\n",
    "            y_tr = y_train[train]\n",
    "            X_ts = X_train[test]\n",
    "            y_ts = y_train[test]\n",
    "            clf.fit(X_tr, y_tr)\n",
    "            y_submission = clf.predict_proba(X_ts)[:, 1]\n",
    "            meta_train[test, j] = y_submission\n",
    "            meta_test_j[:, i] = clf.predict_proba(X_test)[:, 1]\n",
    "        meta_test[:, j] = meta_test_j.mean(axis = 1)\n",
    "\n",
    "    return meta_train, meta_test"
   ]
  },
  {
   "cell_type": "code",
   "execution_count": 28,
   "metadata": {},
   "outputs": [],
   "source": [
    "class StackedModel(BaseEstimator, TransformerMixin):\n",
    "    \"\"\"\n",
    "    Stacking models\n",
    "    \"\"\"\n",
    "    def __init__(self, delegate):\n",
    "        self.delegate = delegate\n",
    "\n",
    "    def fit_transform(self, X, y):\n",
    "        a = cross_val_predict(self.delegate, X, y, cv=5)\n",
    "        # Generate cross-validated estimates for each input data point\n",
    "        self.delegate.fit(X, y)\n",
    "        return a.reshape(-1, 1)\n",
    "\n",
    "    def transform(self, X):\n",
    "        return self.delegate.predict(X).reshape(-1, 1)\n"
   ]
  },
  {
   "cell_type": "code",
   "execution_count": 29,
   "metadata": {
    "collapsed": true
   },
   "outputs": [],
   "source": [
    "a = StackedModel(XGBClassifier(n_estimators=600, learning_rate=0.03, max_depth=10, colsample_bytree=0.4, \n",
    "                      min_child_weight=1, seed=88888))"
   ]
  },
  {
   "cell_type": "code",
   "execution_count": null,
   "metadata": {},
   "outputs": [],
   "source": [
    "a.fit_transform(X_train_unscale, y_train)"
   ]
  },
  {
   "cell_type": "markdown",
   "metadata": {},
   "source": [
    "### Case 1: Data base"
   ]
  },
  {
   "cell_type": "markdown",
   "metadata": {},
   "source": [
    "##### Ensemble 1: Using Tree models    <a name = \"randomforesttree\" ><a/>\n",
    "\n",
    "###### Random Forest + Xgboost + Extremely Random Trees"
   ]
  },
  {
   "cell_type": "code",
   "execution_count": 26,
   "metadata": {
    "collapsed": true
   },
   "outputs": [],
   "source": [
    "clfs = [\n",
    "    ExtraTreesClassifier(n_estimators=800, criterion='entropy', max_depth=37, max_features=25, \n",
    "                         min_samples_split=4, min_samples_leaf=2, n_jobs=-1, random_state=888),                  \n",
    "    \n",
    "    XGBClassifier(n_estimators=600, learning_rate=0.03, max_depth=10, colsample_bytree=0.4, \n",
    "                      min_child_weight=1, seed=88888)\n",
    "    \n",
    "]"
   ]
  },
  {
   "cell_type": "code",
   "execution_count": 27,
   "metadata": {},
   "outputs": [
    {
     "name": "stdout",
     "output_type": "stream",
     "text": [
      "Clf 1 ExtraTreesClassifier(bootstrap=False, class_weight=None, criterion='entropy',\n",
      "           max_depth=37, max_features=25, max_leaf_nodes=None,\n",
      "           min_impurity_split=1e-07, min_samples_leaf=2,\n",
      "           min_samples_split=4, min_weight_fraction_leaf=0.0,\n",
      "           n_estimators=800, n_jobs=-1, oob_score=False, random_state=888,\n",
      "           verbose=0, warm_start=False)\n",
      "Fold 1\n",
      "Fold 2\n",
      "Fold 3\n",
      "Fold 4\n",
      "Fold 5\n",
      "Fold 6\n",
      "Fold 7\n",
      "Fold 8\n",
      "Fold 9\n",
      "Fold 10\n",
      "[[ 0.17597917  0.        ]\n",
      " [ 0.80519134  0.        ]\n",
      " [ 0.83264583  0.        ]\n",
      " ..., \n",
      " [ 0.86976875  0.        ]\n",
      " [ 0.97702083  0.        ]\n",
      " [ 0.61299386  0.        ]]\n",
      "Clf 2 XGBClassifier(base_score=0.5, booster='gbtree', colsample_bylevel=1,\n",
      "       colsample_bytree=0.4, gamma=0, learning_rate=0.03, max_delta_step=0,\n",
      "       max_depth=10, min_child_weight=1, missing=None, n_estimators=600,\n",
      "       n_jobs=1, nthread=None, objective='binary:logistic', random_state=0,\n",
      "       reg_alpha=0, reg_lambda=1, scale_pos_weight=1, seed=88888,\n",
      "       silent=True, subsample=1)\n",
      "Fold 1\n",
      "Fold 2\n",
      "Fold 3\n",
      "Fold 4\n",
      "Fold 5\n",
      "Fold 6\n",
      "Fold 7\n",
      "Fold 8\n",
      "Fold 9\n",
      "Fold 10\n",
      "[[ 0.17597917  0.24479749]\n",
      " [ 0.80519134  0.92951387]\n",
      " [ 0.83264583  0.89109352]\n",
      " ..., \n",
      " [ 0.86976875  0.91655076]\n",
      " [ 0.97702083  0.96616799]\n",
      " [ 0.61299386  0.48215789]]\n"
     ]
    }
   ],
   "source": [
    "meta_train, meta_test = stacking(X_train_unscale, X_test_unscale, y_train, skf, clfs)\n",
    "\n",
    "meta_train_1 = pd.DataFrame(meta_train, index=X_train.index, columns=['base_et', 'base_xg'])\n",
    "meta_test_1 = pd.DataFrame(meta_test, index=X_test.index, columns=['base_et', 'base_xg'])"
   ]
  },
  {
   "cell_type": "code",
   "execution_count": 28,
   "metadata": {
    "collapsed": true
   },
   "outputs": [],
   "source": [
    "clfs = [RandomForestClassifier(n_estimators=800, criterion='gini', max_depth=25, max_features=25, \n",
    "                               , random_state=888)]\n",
    "    #800 trees in the forest, at least 2 samples required to split an internal node"
   ]
  },
  {
   "cell_type": "code",
   "execution_count": 29,
   "metadata": {},
   "outputs": [
    {
     "name": "stdout",
     "output_type": "stream",
     "text": [
      "Clf 1 RandomForestClassifier(bootstrap=True, class_weight=None, criterion='gini',\n",
      "            max_depth=25, max_features=25, max_leaf_nodes=None,\n",
      "            min_impurity_split=1e-07, min_samples_leaf=1,\n",
      "            min_samples_split=2, min_weight_fraction_leaf=0.0,\n",
      "            n_estimators=800, n_jobs=-1, oob_score=False, random_state=888,\n",
      "            verbose=0, warm_start=False)\n",
      "Fold 1\n",
      "Fold 2\n",
      "Fold 3\n",
      "Fold 4\n",
      "Fold 5\n",
      "Fold 6\n",
      "Fold 7\n",
      "Fold 8\n",
      "Fold 9\n",
      "Fold 10\n",
      "[[ 0.18704155]\n",
      " [ 0.68229767]\n",
      " [ 0.71374517]\n",
      " ..., \n",
      " [ 0.91126148]\n",
      " [ 0.91473735]\n",
      " [ 0.55027835]]\n"
     ]
    }
   ],
   "source": [
    "meta_train, meta_test = stacking(X_train_unscale, X_test_unscale, y_train, skf, clfs)\n",
    "\n",
    "meta_train_11 = pd.DataFrame(meta_train, index=X_train.index, columns=[ 'base_rf'])\n",
    "meta_test_11 = pd.DataFrame(meta_test, index=X_test.index, columns=[ 'base_rf'])"
   ]
  },
  {
   "cell_type": "markdown",
   "metadata": {},
   "source": [
    "##### Ensemble 2: Logistic Regression <a name = \"logisticregression\" ><a/>"
   ]
  },
  {
   "cell_type": "code",
   "execution_count": 30,
   "metadata": {},
   "outputs": [
    {
     "name": "stdout",
     "output_type": "stream",
     "text": [
      "Clf 1 LogisticRegression(C=1.0, class_weight=None, dual=False, fit_intercept=True,\n",
      "          intercept_scaling=1, max_iter=100, multi_class='ovr', n_jobs=-1,\n",
      "          penalty='l2', random_state=None, solver='liblinear', tol=0.0001,\n",
      "          verbose=0, warm_start=False)\n",
      "Fold 1\n",
      "Fold 2\n",
      "Fold 3\n",
      "Fold 4\n",
      "Fold 5\n",
      "Fold 6\n",
      "Fold 7\n",
      "Fold 8\n",
      "Fold 9\n",
      "Fold 10\n",
      "[[ 0.54445527]\n",
      " [ 0.904127  ]\n",
      " [ 0.71637249]\n",
      " ..., \n",
      " [ 0.77570918]\n",
      " [ 0.86815317]\n",
      " [ 0.57814558]]\n"
     ]
    }
   ],
   "source": [
    "clfs = [LogisticRegression(C=1.0, penalty='l2', n_jobs=-1)] #Ridge\n",
    "\n",
    "meta_train, meta_test = stacking(X_train_unscale, X_test_unscale, y_train, skf, clfs)\n",
    "\n",
    "meta_train_2 = pd.DataFrame(meta_train, index=X_train.index, columns=['base_lr'])\n",
    "meta_test_2 = pd.DataFrame(meta_test, index=X_test.index, columns=['base_lr'])"
   ]
  },
  {
   "cell_type": "markdown",
   "metadata": {},
   "source": [
    "#### Concat <a name = \"concat\" ><a/>"
   ]
  },
  {
   "cell_type": "code",
   "execution_count": 31,
   "metadata": {
    "collapsed": true
   },
   "outputs": [],
   "source": [
    "meta_train_base = pd.concat((meta_train_1, meta_train_2, meta_train_11), axis=1)\n",
    "meta_test_base = pd.concat((meta_test_1, meta_test_2, meta_test_11), axis=1)\n",
    "\n",
    "meta_train_base.to_csv('meta_train_base.csv', index = False)\n",
    "meta_test_base.to_csv('meta_test_base.csv', index = False)"
   ]
  },
  {
   "cell_type": "markdown",
   "metadata": {},
   "source": [
    "### Case 2: one-hot coding features <a name = \"case2\" ><a/>"
   ]
  },
  {
   "cell_type": "code",
   "execution_count": 36,
   "metadata": {
    "collapsed": true
   },
   "outputs": [],
   "source": [
    "train = pd.read_csv(\"train.csv\")\n",
    "test = pd.read_csv(\"test.csv\")\n"
   ]
  },
  {
   "cell_type": "code",
   "execution_count": 40,
   "metadata": {
    "collapsed": true
   },
   "outputs": [],
   "source": [
    "X_train = train.ix[:, train.columns != 'target']\n",
    "\n",
    "X_test = test.ix[:, test.columns != 'target']\n",
    "\n",
    "test_id = X_test['ID']\n",
    "\n",
    "X_train = X_train.drop('ID', axis =1)\n",
    "X_test = X_test.drop('ID', axis =1 )\n",
    "\n",
    "X_train, X_test = preprocess_data(train, test)\n"
   ]
  },
  {
   "cell_type": "code",
   "execution_count": 49,
   "metadata": {
    "collapsed": true
   },
   "outputs": [],
   "source": [
    "values, counts = np.unique(X_train.v22, return_counts=True)\n",
    "counts = {x : y for x, y in zip(values, counts)}\n",
    "X_train.v22 = X_train.v22.apply(lambda x: x if counts.get(x, 0) > 50 else 0)\n",
    "X_test.v22 = X_test.v22.apply(lambda x: x if counts.get(x, 0) > 50 else 0)\n"
   ]
  },
  {
   "cell_type": "code",
   "execution_count": 39,
   "metadata": {
    "collapsed": true
   },
   "outputs": [],
   "source": [
    "cat_vars = ['v24', 'v112', 'v91', 'v52', 'v56', 'v74', 'v125', 'v71', 'v47', 'v3', 'v66', 'v22']\n",
    "X_train = X_train[cat_vars]\n",
    "X_test = X_test[cat_vars]\n",
    "\n",
    "data = pd.concat((X_train, X_test), axis=0, ignore_index=True)\n",
    "for col in cat_vars:\n",
    "    data = pd.concat((data, pd.get_dummies(data[col], prefix=col)), axis=1)\n",
    "    data.drop(col, axis=1, inplace=True)\n",
    "\n",
    "X_train = np.array(data, dtype=np.float64)[:X_train.shape[0]]\n",
    "X_test = np.array(data, dtype=np.float64)[X_train.shape[0]:]\n"
   ]
  },
  {
   "cell_type": "code",
   "execution_count": 86,
   "metadata": {
    "collapsed": true
   },
   "outputs": [],
   "source": [
    "skf = list(StratifiedKFold(y_train, n_folds=10, shuffle=True, random_state=1))"
   ]
  },
  {
   "cell_type": "code",
   "execution_count": 87,
   "metadata": {},
   "outputs": [
    {
     "name": "stdout",
     "output_type": "stream",
     "text": [
      "Clf 1 ExtraTreesClassifier(bootstrap=False, class_weight=None, criterion='entropy',\n",
      "           max_depth=37, max_features=25, max_leaf_nodes=None,\n",
      "           min_impurity_split=1e-07, min_samples_leaf=2,\n",
      "           min_samples_split=4, min_weight_fraction_leaf=0.0,\n",
      "           n_estimators=800, n_jobs=-1, oob_score=False, random_state=888,\n",
      "           verbose=0, warm_start=False)\n",
      "Fold 1\n",
      "Fold 2\n",
      "Fold 3\n",
      "Fold 4\n",
      "Fold 5\n",
      "Fold 6\n",
      "Fold 7\n",
      "Fold 8\n",
      "Fold 9\n",
      "Fold 10\n",
      "[[ 0.66898807  0.          0.          0.        ]\n",
      " [ 0.8700792   0.          0.          0.        ]\n",
      " [ 0.81459329  0.          0.          0.        ]\n",
      " ..., \n",
      " [ 0.88192988  0.          0.          0.        ]\n",
      " [ 0.88234392  0.          0.          0.        ]\n",
      " [ 0.60907229  0.          0.          0.        ]]\n",
      "Clf 2 RandomForestClassifier(bootstrap=True, class_weight=None, criterion='gini',\n",
      "            max_depth=25, max_features=25, max_leaf_nodes=None,\n",
      "            min_impurity_split=1e-07, min_samples_leaf=1,\n",
      "            min_samples_split=2, min_weight_fraction_leaf=0.0,\n",
      "            n_estimators=800, n_jobs=-1, oob_score=False, random_state=888,\n",
      "            verbose=0, warm_start=False)\n",
      "Fold 1\n",
      "Fold 2\n",
      "Fold 3\n",
      "Fold 4\n",
      "Fold 5\n",
      "Fold 6\n",
      "Fold 7\n",
      "Fold 8\n",
      "Fold 9\n",
      "Fold 10\n",
      "[[ 0.66898807  0.68673432  0.          0.        ]\n",
      " [ 0.8700792   0.86626313  0.          0.        ]\n",
      " [ 0.81459329  0.80265173  0.          0.        ]\n",
      " ..., \n",
      " [ 0.88192988  0.84464895  0.          0.        ]\n",
      " [ 0.88234392  0.85909686  0.          0.        ]\n",
      " [ 0.60907229  0.62684854  0.          0.        ]]\n",
      "Clf 3 XGBClassifier(base_score=0.5, booster='gbtree', colsample_bylevel=1,\n",
      "       colsample_bytree=0.4, gamma=0, learning_rate=0.03, max_delta_step=0,\n",
      "       max_depth=10, min_child_weight=1, missing=None, n_estimators=600,\n",
      "       n_jobs=1, nthread=None, objective='binary:logistic', random_state=0,\n",
      "       reg_alpha=0, reg_lambda=1, scale_pos_weight=1, seed=88888,\n",
      "       silent=True, subsample=1)\n",
      "Fold 1\n",
      "Fold 2\n",
      "Fold 3\n",
      "Fold 4\n",
      "Fold 5\n",
      "Fold 6\n",
      "Fold 7\n",
      "Fold 8\n",
      "Fold 9\n",
      "Fold 10\n",
      "[[ 0.66898807  0.68673432  0.64950604  0.        ]\n",
      " [ 0.8700792   0.86626313  0.88611102  0.        ]\n",
      " [ 0.81459329  0.80265173  0.83482897  0.        ]\n",
      " ..., \n",
      " [ 0.88192988  0.84464895  0.87035031  0.        ]\n",
      " [ 0.88234392  0.85909686  0.89458446  0.        ]\n",
      " [ 0.60907229  0.62684854  0.62066227  0.        ]]\n",
      "Clf 4 LogisticRegression(C=1.0, class_weight=None, dual=False, fit_intercept=True,\n",
      "          intercept_scaling=1, max_iter=100, multi_class='ovr', n_jobs=-1,\n",
      "          penalty='l2', random_state=None, solver='liblinear', tol=0.0001,\n",
      "          verbose=0, warm_start=False)\n",
      "Fold 1\n",
      "Fold 2\n",
      "Fold 3\n",
      "Fold 4\n",
      "Fold 5\n",
      "Fold 6\n",
      "Fold 7\n",
      "Fold 8\n",
      "Fold 9\n",
      "Fold 10\n",
      "[[ 0.66898807  0.68673432  0.64950604  0.63086226]\n",
      " [ 0.8700792   0.86626313  0.88611102  0.9231057 ]\n",
      " [ 0.81459329  0.80265173  0.83482897  0.66931754]\n",
      " ..., \n",
      " [ 0.88192988  0.84464895  0.87035031  0.74445926]\n",
      " [ 0.88234392  0.85909686  0.89458446  0.82971142]\n",
      " [ 0.60907229  0.62684854  0.62066227  0.68208984]]\n"
     ]
    },
    {
     "ename": "AttributeError",
     "evalue": "'numpy.ndarray' object has no attribute 'index'",
     "output_type": "error",
     "traceback": [
      "\u001b[0;31m---------------------------------------------------------------------------\u001b[0m",
      "\u001b[0;31mAttributeError\u001b[0m                            Traceback (most recent call last)",
      "\u001b[0;32m<ipython-input-87-13605401ed2f>\u001b[0m in \u001b[0;36m<module>\u001b[0;34m()\u001b[0m\n\u001b[1;32m     14\u001b[0m \u001b[0mmeta_train\u001b[0m\u001b[0;34m,\u001b[0m \u001b[0mmeta_test\u001b[0m \u001b[0;34m=\u001b[0m \u001b[0mstacking\u001b[0m\u001b[0;34m(\u001b[0m\u001b[0mX_train\u001b[0m\u001b[0;34m,\u001b[0m \u001b[0mX_test\u001b[0m\u001b[0;34m,\u001b[0m \u001b[0my_train\u001b[0m\u001b[0;34m,\u001b[0m \u001b[0mskf\u001b[0m\u001b[0;34m,\u001b[0m \u001b[0mclfs\u001b[0m\u001b[0;34m)\u001b[0m\u001b[0;34m\u001b[0m\u001b[0m\n\u001b[1;32m     15\u001b[0m \u001b[0;34m\u001b[0m\u001b[0m\n\u001b[0;32m---> 16\u001b[0;31m \u001b[0mmeta_train_3\u001b[0m \u001b[0;34m=\u001b[0m \u001b[0mpd\u001b[0m\u001b[0;34m.\u001b[0m\u001b[0mDataFrame\u001b[0m\u001b[0;34m(\u001b[0m\u001b[0mmeta_train\u001b[0m\u001b[0;34m,\u001b[0m \u001b[0mindex\u001b[0m\u001b[0;34m=\u001b[0m\u001b[0mX_train\u001b[0m\u001b[0;34m.\u001b[0m\u001b[0mindex\u001b[0m\u001b[0;34m,\u001b[0m \u001b[0mcolumns\u001b[0m\u001b[0;34m=\u001b[0m\u001b[0;34m[\u001b[0m\u001b[0;34m'one_et'\u001b[0m\u001b[0;34m,\u001b[0m \u001b[0;34m'one_rf'\u001b[0m\u001b[0;34m,\u001b[0m \u001b[0;34m'one_xg'\u001b[0m\u001b[0;34m,\u001b[0m \u001b[0;34m'one_lg'\u001b[0m\u001b[0;34m]\u001b[0m\u001b[0;34m)\u001b[0m\u001b[0;34m\u001b[0m\u001b[0m\n\u001b[0m\u001b[1;32m     17\u001b[0m \u001b[0mmeta_test_3\u001b[0m \u001b[0;34m=\u001b[0m \u001b[0mpd\u001b[0m\u001b[0;34m.\u001b[0m\u001b[0mDataFrame\u001b[0m\u001b[0;34m(\u001b[0m\u001b[0mmeta_test\u001b[0m\u001b[0;34m,\u001b[0m \u001b[0mindex\u001b[0m\u001b[0;34m=\u001b[0m\u001b[0mX_test\u001b[0m\u001b[0;34m.\u001b[0m\u001b[0mindex\u001b[0m\u001b[0;34m,\u001b[0m \u001b[0mcolumns\u001b[0m\u001b[0;34m=\u001b[0m\u001b[0;34m[\u001b[0m\u001b[0;34m'one_et'\u001b[0m\u001b[0;34m,\u001b[0m \u001b[0;34m'one_rf'\u001b[0m\u001b[0;34m,\u001b[0m \u001b[0;34m'one_xg'\u001b[0m\u001b[0;34m,\u001b[0m \u001b[0;34m'one_lg'\u001b[0m\u001b[0;34m]\u001b[0m \u001b[0;34m)\u001b[0m\u001b[0;34m\u001b[0m\u001b[0m\n",
      "\u001b[0;31mAttributeError\u001b[0m: 'numpy.ndarray' object has no attribute 'index'"
     ]
    }
   ],
   "source": [
    "clfs = [\n",
    "    ExtraTreesClassifier(n_estimators=800, criterion='entropy', max_depth=37, max_features=25, \n",
    "                         min_samples_split=4, min_samples_leaf=2, n_jobs=-1, random_state=888),    \n",
    "    \n",
    "    RandomForestClassifier(n_estimators=800, criterion='gini', max_depth=25, max_features=25, \n",
    "                           min_samples_split= 2 , min_samples_leaf= 1, n_jobs=-1, random_state=888),\n",
    "    \n",
    "    XGBClassifier(n_estimators=600, learning_rate=0.03, max_depth=10, colsample_bytree=0.4, \n",
    "                      min_child_weight=1, seed=88888), \n",
    "    \n",
    "    LogisticRegression(C=1.0, penalty='l2', n_jobs=-1)\n",
    "]\n",
    "\n",
    "meta_train, meta_test = stacking(X_train, X_test, y_train, skf, clfs)\n",
    "\n",
    "meta_train_3 = pd.DataFrame(meta_train, index=X_train.index, columns=['one_et', 'one_rf', 'one_xg', 'one_lg'])\n",
    "meta_test_3 = pd.DataFrame(meta_test, index=X_test.index, columns=['one_et', 'one_rf', 'one_xg', 'one_lg'] )\n"
   ]
  },
  {
   "cell_type": "code",
   "execution_count": 89,
   "metadata": {
    "collapsed": true
   },
   "outputs": [],
   "source": [
    "X_train_n = train.ix[:, train.columns != 'target']\n",
    "\n",
    "X_test_n = test.ix[:, test.columns != 'target']"
   ]
  },
  {
   "cell_type": "code",
   "execution_count": 90,
   "metadata": {
    "collapsed": true
   },
   "outputs": [],
   "source": [
    "meta_train_3 = pd.DataFrame(meta_train, index=X_train_n.index, columns=['one_et', 'one_rf', 'one_xg', 'one_lg'])\n",
    "meta_test_3 = pd.DataFrame(meta_test, index=X_test_n.index, columns=['one_et', 'one_rf', 'one_xg', 'one_lg'] )"
   ]
  },
  {
   "cell_type": "code",
   "execution_count": 91,
   "metadata": {
    "collapsed": true
   },
   "outputs": [],
   "source": [
    "meta_train_3.to_csv('meta_train_3.csv', index = False)\n",
    "meta_test_3.to_csv('meta_test_3.csv', index = False)"
   ]
  },
  {
   "cell_type": "markdown",
   "metadata": {},
   "source": [
    "### Final X train and X test"
   ]
  },
  {
   "cell_type": "code",
   "execution_count": 36,
   "metadata": {
    "collapsed": true
   },
   "outputs": [],
   "source": [
    "meta_train_base = pd.read_csv('meta_train_base.csv')\n",
    "meta_test_base = pd.read_csv('meta_test_base.csv')\n",
    "meta_train_3 = pd.read_csv('meta_train_3.csv')\n",
    "meta_test_3 = pd.read_csv('meta_test_3.csv')"
   ]
  },
  {
   "cell_type": "code",
   "execution_count": 4,
   "metadata": {
    "collapsed": true
   },
   "outputs": [],
   "source": [
    "X_train = pd.concat((meta_train_base, meta_train_3), axis = 1)\n",
    "X_test = pd.concat((meta_test_base, meta_test_3),axis =1)"
   ]
  },
  {
   "cell_type": "code",
   "execution_count": 37,
   "metadata": {
    "collapsed": true
   },
   "outputs": [],
   "source": [
    "X_train = meta_train_3\n",
    "X_test = meta_test_3"
   ]
  },
  {
   "cell_type": "code",
   "execution_count": 38,
   "metadata": {
    "collapsed": true
   },
   "outputs": [],
   "source": [
    "y_train = train['target'].values"
   ]
  },
  {
   "cell_type": "markdown",
   "metadata": {},
   "source": [
    "### Final Model <a name = \"finalmodel\" ><a/>"
   ]
  },
  {
   "cell_type": "code",
   "execution_count": 39,
   "metadata": {
    "collapsed": true
   },
   "outputs": [],
   "source": [
    "cv = StratifiedKFold(y_train, n_folds=10, shuffle=True, random_state=115)"
   ]
  },
  {
   "cell_type": "code",
   "execution_count": 40,
   "metadata": {
    "collapsed": true,
    "scrolled": true
   },
   "outputs": [],
   "source": [
    "clf = CalibratedClassifierCV(ExtraTreesClassifier(n_estimators=2000, criterion='entropy', \n",
    "                                                  min_samples_split=2, max_depth=14, min_samples_leaf=2, \n",
    "                                                  n_jobs=-1, random_state=190), method='isotonic', cv=cv)\n",
    "\n",
    "clf.fit(X_train, y_train) \n",
    "y_pred = clf.predict_proba(X_test)[:, 1]"
   ]
  },
  {
   "cell_type": "code",
   "execution_count": 41,
   "metadata": {
    "collapsed": true
   },
   "outputs": [],
   "source": [
    "result = pd.DataFrame({\"ID\": test_id, \"PredictedProb\": y_pred})"
   ]
  },
  {
   "cell_type": "code",
   "execution_count": 43,
   "metadata": {
    "collapsed": true
   },
   "outputs": [],
   "source": [
    "result.to_csv('predict_bnp_4.csv', index = False)"
   ]
  },
  {
   "cell_type": "code",
   "execution_count": 35,
   "metadata": {},
   "outputs": [
    {
     "data": {
      "text/plain": [
       "<matplotlib.axes._subplots.AxesSubplot at 0x7fb7b7232ba8>"
      ]
     },
     "execution_count": 35,
     "metadata": {},
     "output_type": "execute_result"
    },
    {
     "name": "stderr",
     "output_type": "stream",
     "text": [
      "/home/tu/miniconda3/envs/env36/lib/python3.6/site-packages/matplotlib/font_manager.py:1297: UserWarning: findfont: Font family ['sans-serif'] not found. Falling back to DejaVu Sans\n",
      "  (prop.get_family(), self.defaultFamily[fontext]))\n"
     ]
    },
    {
     "data": {
      "image/png": "[encoded data removed]",
      "text/plain": [
       "<matplotlib.figure.Figure at 0x7fb798c06c18>"
      ]
     },
     "metadata": {},
     "output_type": "display_data"
    }
   ],
   "source": [
    "result.PredictedProb.hist(bins=30)"
   ]
  },
  {
   "cell_type": "markdown",
   "metadata": {},
   "source": [
    "#### [Back to Plan](#planattack)"
   ]
  },
  {
   "cell_type": "code",
   "execution_count": 60,
   "metadata": {},
   "outputs": [
    {
     "ename": "ValueError",
     "evalue": "y_true contains only one label (1). Please provide the true labels explicitly through the labels argument.",
     "output_type": "error",
     "traceback": [
      "\u001b[0;31m---------------------------------------------------------------------------\u001b[0m",
      "\u001b[0;31mValueError\u001b[0m                                Traceback (most recent call last)",
      "\u001b[0;32m<ipython-input-60-b1b50f1eb2df>\u001b[0m in \u001b[0;36m<module>\u001b[0;34m()\u001b[0m\n\u001b[0;32m----> 1\u001b[0;31m \u001b[0mscore\u001b[0m \u001b[0;34m=\u001b[0m \u001b[0mlog_loss\u001b[0m\u001b[0;34m(\u001b[0m\u001b[0my_test\u001b[0m\u001b[0;34m,\u001b[0m \u001b[0my_pred\u001b[0m\u001b[0;34m)\u001b[0m\u001b[0;34m\u001b[0m\u001b[0m\n\u001b[0m",
      "\u001b[0;32m~/miniconda3/envs/env36/lib/python3.6/site-packages/sklearn/metrics/classification.py\u001b[0m in \u001b[0;36mlog_loss\u001b[0;34m(y_true, y_pred, eps, normalize, sample_weight, labels)\u001b[0m\n\u001b[1;32m   1620\u001b[0m             raise ValueError('y_true contains only one label ({0}). Please '\n\u001b[1;32m   1621\u001b[0m                              \u001b[0;34m'provide the true labels explicitly through the '\u001b[0m\u001b[0;34m\u001b[0m\u001b[0m\n\u001b[0;32m-> 1622\u001b[0;31m                              'labels argument.'.format(lb.classes_[0]))\n\u001b[0m\u001b[1;32m   1623\u001b[0m         \u001b[0;32melse\u001b[0m\u001b[0;34m:\u001b[0m\u001b[0;34m\u001b[0m\u001b[0m\n\u001b[1;32m   1624\u001b[0m             raise ValueError('The labels array needs to contain at least two '\n",
      "\u001b[0;31mValueError\u001b[0m: y_true contains only one label (1). Please provide the true labels explicitly through the labels argument."
     ]
    }
   ],
   "source": [
    "score = log_loss(y_test, y_pred)"
   ]
  },
  {
   "cell_type": "code",
   "execution_count": null,
   "metadata": {
    "collapsed": true
   },
   "outputs": [],
   "source": []
  }
 ],
 "metadata": {
  "kernelspec": {
   "display_name": "Python 3",
   "language": "python",
   "name": "python3"
  },
  "language_info": {
   "codemirror_mode": {
    "name": "ipython",
    "version": 3
   },
   "file_extension": ".py",
   "mimetype": "text/x-python",
   "name": "python",
   "nbconvert_exporter": "python",
   "pygments_lexer": "ipython3",
   "version": "3.6.1"
  }
 },
 "nbformat": 4,
 "nbformat_minor": 2
}
