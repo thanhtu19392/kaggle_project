{
 "cells": [
  {
   "cell_type": "code",
   "execution_count": 2,
   "metadata": {
    "collapsed": true
   },
   "outputs": [],
   "source": [
    "import numpy as np\n",
    "import matplotlib.pyplot as plt\n",
    "import scipy.interpolate\n",
    "import scipy.integrate"
   ]
  },
  {
   "cell_type": "markdown",
   "metadata": {},
   "source": [
    "For a population uniform on the values $y_i$, i = 1 to n, indexed in non-decreasing order $(y_i ≤ y_{i+1})$:\n",
    "\n",
    "$$G={\\frac {2\\Sigma _{i=1}^{n}\\;iy_{i}}{n\\Sigma _{i=1}^{n}y_{i}}}-{\\frac {n+1}{n}}$$\n",
    "\n",
    "avec: n: length of samples = len(actual)"
   ]
  },
  {
   "cell_type": "code",
   "execution_count": 12,
   "metadata": {
    "collapsed": true
   },
   "outputs": [],
   "source": [
    "pred = [0.9, 0.3, 0.8, 0.75, 0.65, 0.6, 0.78, 0.7, 0.05, 0.4, 0.4, 0.05, 0.5, 0.1, 0.1]\n",
    "actual = [1, 1, 1, 1, 1, 1, 0, 0, 0, 0, 0, 0, 0, 0, 0]"
   ]
  },
  {
   "cell_type": "code",
   "execution_count": 20,
   "metadata": {},
   "outputs": [],
   "source": [
    "all = np.asarray(np.c_[actual, pred, np.arange(len(actual))], dtype=np.float)"
   ]
  },
  {
   "cell_type": "code",
   "execution_count": 17,
   "metadata": {},
   "outputs": [
    {
     "data": {
      "text/plain": [
       "array([[  1.  ,   0.9 ,   0.  ],\n",
       "       [  1.  ,   0.3 ,   1.  ],\n",
       "       [  1.  ,   0.8 ,   2.  ],\n",
       "       [  1.  ,   0.75,   3.  ],\n",
       "       [  1.  ,   0.65,   4.  ],\n",
       "       [  1.  ,   0.6 ,   5.  ],\n",
       "       [  0.  ,   0.78,   6.  ],\n",
       "       [  0.  ,   0.7 ,   7.  ],\n",
       "       [  0.  ,   0.05,   8.  ],\n",
       "       [  0.  ,   0.4 ,   9.  ],\n",
       "       [  0.  ,   0.4 ,  10.  ],\n",
       "       [  0.  ,   0.05,  11.  ],\n",
       "       [  0.  ,   0.5 ,  12.  ],\n",
       "       [  0.  ,   0.1 ,  13.  ],\n",
       "       [  0.  ,   0.1 ,  14.  ]])"
      ]
     },
     "execution_count": 17,
     "metadata": {},
     "output_type": "execute_result"
    }
   ],
   "source": [
    "all"
   ]
  },
  {
   "cell_type": "code",
   "execution_count": 25,
   "metadata": {},
   "outputs": [
    {
     "data": {
      "text/plain": [
       "array([ 0,  2,  6,  3,  7,  4,  5, 12,  9, 10,  1, 13, 14,  8, 11], dtype=int64)"
      ]
     },
     "execution_count": 25,
     "metadata": {},
     "output_type": "execute_result"
    }
   ],
   "source": [
    "np.lexsort((all[:, 2], -1 * all[:, 1]))"
   ]
  },
  {
   "cell_type": "code",
   "execution_count": 26,
   "metadata": {
    "collapsed": true
   },
   "outputs": [],
   "source": [
    "all = all[np.lexsort((all[:, 2], -1 * all[:, 1]))]"
   ]
  },
  {
   "cell_type": "code",
   "execution_count": 27,
   "metadata": {
    "scrolled": true
   },
   "outputs": [
    {
     "data": {
      "text/plain": [
       "array([[  1.  ,   0.9 ,   0.  ],\n",
       "       [  1.  ,   0.8 ,   2.  ],\n",
       "       [  0.  ,   0.78,   6.  ],\n",
       "       [  1.  ,   0.75,   3.  ],\n",
       "       [  0.  ,   0.7 ,   7.  ],\n",
       "       [  1.  ,   0.65,   4.  ],\n",
       "       [  1.  ,   0.6 ,   5.  ],\n",
       "       [  0.  ,   0.5 ,  12.  ],\n",
       "       [  0.  ,   0.4 ,   9.  ],\n",
       "       [  0.  ,   0.4 ,  10.  ],\n",
       "       [  1.  ,   0.3 ,   1.  ],\n",
       "       [  0.  ,   0.1 ,  13.  ],\n",
       "       [  0.  ,   0.1 ,  14.  ],\n",
       "       [  0.  ,   0.05,   8.  ],\n",
       "       [  0.  ,   0.05,  11.  ]])"
      ]
     },
     "execution_count": 27,
     "metadata": {},
     "output_type": "execute_result"
    }
   ],
   "source": [
    "all"
   ]
  },
  {
   "cell_type": "code",
   "execution_count": 28,
   "metadata": {
    "collapsed": true
   },
   "outputs": [],
   "source": [
    "totalLosses = all[:, 0].sum()"
   ]
  },
  {
   "cell_type": "code",
   "execution_count": 32,
   "metadata": {},
   "outputs": [
    {
     "data": {
      "text/plain": [
       "65.0"
      ]
     },
     "execution_count": 32,
     "metadata": {},
     "output_type": "execute_result"
    }
   ],
   "source": [
    "all[:, 0].cumsum().sum()"
   ]
  },
  {
   "cell_type": "code",
   "execution_count": 33,
   "metadata": {
    "collapsed": true
   },
   "outputs": [],
   "source": [
    "def gini(actual, pred):\n",
    "    #check len(actual) == len(predictions), if not return error\n",
    "    assert (len(actual) == len(pred))\n",
    "    #create array of real observations and predictions and index\n",
    "    all = np.asarray(np.c_[actual, pred, np.arange(len(actual))], dtype=np.float)\n",
    "    #sort following order deacresing of predictions\n",
    "    all = all[np.lexsort((all[:, 2], -1 * all[:, 1]))]\n",
    "    totalLosses = all[:, 0].sum()\n",
    "    giniSum = 2 * all[:, 0].cumsum().sum() / totalLosses\n",
    "\n",
    "    giniSum -= (len(actual) + 1) \n",
    "    return giniSum / len(actual)"
   ]
  },
  {
   "cell_type": "code",
   "execution_count": 34,
   "metadata": {
    "collapsed": true
   },
   "outputs": [],
   "source": [
    "def gini_normalized(actual, pred):\n",
    "    return gini(actual, pred) / gini(actual, actual)"
   ]
  },
  {
   "cell_type": "code",
   "execution_count": 35,
   "metadata": {},
   "outputs": [
    {
     "data": {
      "text/plain": [
       "0.62962962962962987"
      ]
     },
     "execution_count": 35,
     "metadata": {},
     "output_type": "execute_result"
    }
   ],
   "source": [
    "gini_normalized(actual, pred)"
   ]
  },
  {
   "cell_type": "code",
   "execution_count": 36,
   "metadata": {},
   "outputs": [
    {
     "data": {
      "text/plain": [
       "0.37777777777777788"
      ]
     },
     "execution_count": 36,
     "metadata": {},
     "output_type": "execute_result"
    }
   ],
   "source": [
    "gini(actual, pred)"
   ]
  },
  {
   "cell_type": "code",
   "execution_count": null,
   "metadata": {
    "collapsed": true
   },
   "outputs": [],
   "source": []
  }
 ],
 "metadata": {
  "kernelspec": {
   "display_name": "Python 3",
   "language": "python",
   "name": "python3"
  },
  "language_info": {
   "codemirror_mode": {
    "name": "ipython",
    "version": 3
   },
   "file_extension": ".py",
   "mimetype": "text/x-python",
   "name": "python",
   "nbconvert_exporter": "python",
   "pygments_lexer": "ipython3",
   "version": "3.6.1"
  }
 },
 "nbformat": 4,
 "nbformat_minor": 2
}
